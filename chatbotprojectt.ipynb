{
 "cells": [
  {
   "cell_type": "code",
   "execution_count": 1,
   "id": "b268af00",
   "metadata": {},
   "outputs": [],
   "source": [
    "with open('WhatsApp Chat with Kushagr Kapoor BHU.txt','r', encoding='utf8', errors ='ignore') as fin:\n",
    "    raw = fin.read().lower()"
   ]
  },
  {
   "cell_type": "code",
   "execution_count": 2,
   "id": "8168c8fc",
   "metadata": {},
   "outputs": [],
   "source": [
    "import warnings\n",
    "warnings.filterwarnings('ignore')\n",
    "from textblob import TextBlob, Word, Blobber \n",
    "import nltk"
   ]
  },
  {
   "cell_type": "code",
   "execution_count": 3,
   "id": "bf09bb1d",
   "metadata": {},
   "outputs": [],
   "source": [
    "import spacy\n",
    "nlp = spacy.load(\"en_core_web_sm\") \n",
    "\n",
    "def preprocess(text):\n",
    "    doc = nlp(text)\n",
    "    filtered_tokens = []\n",
    "    for token in doc:\n",
    "        if token.is_stop or token.is_punct:\n",
    "            continue\n",
    "        filtered_tokens.append(token.lemma_)\n",
    "    return \" \".join(filtered_tokens) "
   ]
  },
  {
   "cell_type": "code",
   "execution_count": 4,
   "id": "747eb0bb",
   "metadata": {},
   "outputs": [],
   "source": [
    "import re"
   ]
  },
  {
   "cell_type": "code",
   "execution_count": 5,
   "id": "93b68ca4",
   "metadata": {},
   "outputs": [],
   "source": [
    "pattern = '\\d+\\/\\d+\\/\\d+, \\d+:\\d+\\W[a-z]+ - (.+)' \n",
    "\n",
    "lis=re.findall(pattern, raw)"
   ]
  },
  {
   "cell_type": "code",
   "execution_count": 6,
   "id": "e63665f2",
   "metadata": {},
   "outputs": [],
   "source": [
    "messages=[]\n",
    "for items in lis:\n",
    "    if '<media omitted>' not in items:\n",
    "        messages.append(items)"
   ]
  },
  {
   "cell_type": "code",
   "execution_count": 7,
   "id": "ce709a53",
   "metadata": {},
   "outputs": [],
   "source": [
    "pre_messages=[]\n",
    "for message in messages:\n",
    "    pre_messages.append(preprocess(message))"
   ]
  },
  {
   "cell_type": "code",
   "execution_count": 8,
   "id": "abba6bad",
   "metadata": {},
   "outputs": [],
   "source": [
    "import random\n",
    "Greet_input = (\"hello\", \"hi\", \"hola\",\"oye\", \"sup\", \"what's up\",\"hey\",\"sun\")\n",
    "Greet_output = [\"Ha bhai bol\", \"Aur bata\", \"Bol bhai\", \"Hmmm\", \"Kaho\", ]\n",
    "def greeting(sentence):\n",
    "    for word in sentence.split():\n",
    "        if word.lower() in Greet_input:\n",
    "            return random.choice(Greet_output)"
   ]
  },
  {
   "cell_type": "code",
   "execution_count": 9,
   "id": "e8f99ada",
   "metadata": {},
   "outputs": [],
   "source": [
    "from sklearn.feature_extraction.text import TfidfVectorizer\n",
    "from sklearn.metrics.pairwise import cosine_similarity"
   ]
  },
  {
   "cell_type": "code",
   "execution_count": 10,
   "id": "3e4345d4",
   "metadata": {},
   "outputs": [],
   "source": [
    "def get_ans(num,string_list):\n",
    "    if 'ashutosh thakur' in string_list[num]:\n",
    "        while 'ashutosh thakur' in string_list[num+1]:\n",
    "            num=num+1\n",
    "        return string_list[num+1][19:]\n",
    "    elif 'kushagr kapoor bhu' in string_list[num]:\n",
    "        while 'kushagr kapoor bhu' in string_list[num+1]:\n",
    "            num=num+1\n",
    "        return string_list[num+1][16:] "
   ]
  },
  {
   "cell_type": "code",
   "execution_count": 11,
   "id": "6c0199c7",
   "metadata": {},
   "outputs": [],
   "source": [
    "def sentiment(text):\n",
    "    sent_lis=[]\n",
    "    tupel=TextBlob(text).sentiment\n",
    "    if tupel[0]>0.5:\n",
    "        sent_lis.append('Strongly positive Sentiment')\n",
    "    if tupel[0]>0.1 and tupel[0]<=0.5:\n",
    "        sent_lis.append('positive Sentiment')\n",
    "    if tupel[0]<=0.1 and tupel[0]>=-0.1:\n",
    "        sent_lis.append('A Neutral Sentiment')\n",
    "    if tupel[0]<-0.1 and tupel[0]>=-0.5:\n",
    "        sent_lis.append('negative Sentiment')   \n",
    "    if tupel[0]<-0.5:\n",
    "        sent_lis.append('Strongly negative Sentiment')\n",
    "    if tupel[1]>0.65:\n",
    "        sent_lis.append('and a public opinion')\n",
    "    elif tupel[1]>0.35:\n",
    "        sent_lis.append('and somewhere between a fact and an opinion')\n",
    "    else:\n",
    "        sent_lis.append(\"and a factual statement\")\n",
    "    return \" \".join(sent_lis)"
   ]
  },
  {
   "cell_type": "code",
   "execution_count": 16,
   "id": "d25ee2df",
   "metadata": {},
   "outputs": [
    {
     "name": "stdout",
     "output_type": "stream",
     "text": [
      "A Neutral Sentiment and a factual statement\n"
     ]
    }
   ],
   "source": [
    "print(sentiment(\"sun rises in the east\"))"
   ]
  },
  {
   "cell_type": "code",
   "execution_count": 17,
   "id": "49ecc724",
   "metadata": {},
   "outputs": [],
   "source": [
    "def answer(inputt):\n",
    "    sent_copy=pre_messages.copy()\n",
    "    sent_copy.append(inputt)\n",
    "    vector = TfidfVectorizer(stop_words='english')\n",
    "    tfidf = vector.fit_transform(sent_copy)\n",
    "    cos = cosine_similarity(tfidf[-1], tfidf)\n",
    "    idx=cos.argsort()[0][-2]\n",
    "    flat = cos.flatten()\n",
    "    flat.sort()\n",
    "    req = flat[-2]\n",
    "    if req==0:\n",
    "        return \"Sorry, Didn't get you, please repeat.\"\n",
    "    else:\n",
    "#         return get_ans(idx,sent_copy)+' ['+sentiment(inputt)+ '{'+' Detected'+'}'+\"]\"\n",
    "        return get_ans(idx,messages)+' ['+sentiment(inputt)+ '{'+' Detected'+'}'+\"]\""
   ]
  },
  {
   "cell_type": "code",
   "execution_count": 19,
   "id": "20b352dd",
   "metadata": {},
   "outputs": [
    {
     "name": "stdout",
     "output_type": "stream",
     "text": [
      "A chat model made from whatsapp conversations of two friends.\n",
      "Test me!\n",
      "hey\n",
      "Bot: Bol bhai [Greeting tone detected]\n",
      "template bhejiyo resume wali\n",
      "Bot:  resume.io [A Neutral Sentiment and a factual statement{ Detected}]\n",
      "maths ki class jayega?\n",
      "Bot:  haa [A Neutral Sentiment and a factual statement{ Detected}]\n",
      "tu hostel aaya?\n",
      "Bot:  bas 20 minute me pahuch jauga [A Neutral Sentiment and a factual statement{ Detected}]\n",
      "Site khul rahi hai?\n",
      "Bot:  slow hai kaafi pata nahi [A Neutral Sentiment and a factual statement{ Detected}]\n",
      "tu chalega aaj sae me?\n",
      "Bot:  aaj nahi jauga shayad [A Neutral Sentiment and a factual statement{ Detected}]\n",
      "meri chhatri teri paas hai?\n",
      "Bot:  teri chatri kal priyanshu ko pakda di thi maine kyuki mai pehle chala gaya tha [A Neutral Sentiment and a factual statement{ Detected}]\n",
      "ok mili, priyanshu ke room me thi\n",
      "Bot:  uske kamre me sab mil jaata hai praveen ke alawa🤠🤠 [positive Sentiment and somewhere between a fact and an opinion{ Detected}]\n",
      "achha\n",
      "Bot:  haa [A Neutral Sentiment and a factual statement{ Detected}]\n",
      "theek hai fir bye\n",
      "Bot: Bye bro [farewell]\n"
     ]
    }
   ],
   "source": [
    "flag=True\n",
    "print(\"A chat model made from whatsapp conversations of two friends.\\nTest me!\")\n",
    "while(flag==True):\n",
    "    inp = input()\n",
    "    inp=inp.lower()\n",
    "    if 'bye' not in inp:\n",
    "        if('thanks' in inp ):\n",
    "            flag=False\n",
    "            print(\"Welcome bhai [kind tone detected]\")\n",
    "        else:\n",
    "            if(greeting(inp)!=None):\n",
    "                print(\"Bot: \"+greeting(inp)+\" [Greeting tone detected]\")\n",
    "            else:\n",
    "                print(\"Bot: \",end=\"\")\n",
    "                print(answer(inp))\n",
    "    else:\n",
    "        flag=False\n",
    "        print(\"Bot: Bye bro [farewell]\")  "
   ]
  },
  {
   "cell_type": "code",
   "execution_count": null,
   "id": "3aa93be9",
   "metadata": {},
   "outputs": [],
   "source": [
    "sent_copy=pre_messages.copy()\n",
    "sent_copy.append('kitne number mil rehe hai hmt me')\n",
    "TfidfVec = TfidfVectorizer(stop_words='english')\n",
    "tfidf = TfidfVec.fit_transform(sent_copy)\n",
    "vals = cosine_similarity(tfidf[-1], tfidf)\n",
    "idx=vals.argsort()[0][-2]\n",
    "print(idx)\n",
    "sent_copy[idx]"
   ]
  }
 ],
 "metadata": {
  "kernelspec": {
   "display_name": "Python 3 (ipykernel)",
   "language": "python",
   "name": "python3"
  },
  "language_info": {
   "codemirror_mode": {
    "name": "ipython",
    "version": 3
   },
   "file_extension": ".py",
   "mimetype": "text/x-python",
   "name": "python",
   "nbconvert_exporter": "python",
   "pygments_lexer": "ipython3",
   "version": "3.9.9"
  }
 },
 "nbformat": 4,
 "nbformat_minor": 5
}
